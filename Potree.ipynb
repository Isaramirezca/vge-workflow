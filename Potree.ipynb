{
 "cells": [
  {
   "cell_type": "markdown",
   "id": "8a4ae003-3dcf-467c-b1dd-b37e07baf8a0",
   "metadata": {},
   "source": [
    "## Potree\n",
    "\n",
    "Potree is a JavaScript library for visualizing large point clouds in 3D in a web browser. It is a free open-source WebGL based point cloud renderer for large point clouds. It is based on the [TU Wien Scanopy project](https://www.cg.uuwien.ac.at/research/projects/Scanopy/). Potree is not yet in a development phase in which a user-friendly platform is available. Currently, the resources available are directed to software developers and command line use is required. Therefore, a detailed (for non-developers) step by step guide is described below. In order to install and use Potree the use of the command line is necesary, here some [basics](./Basics.ipynb).\n",
    "\n",
    "There are three ways to access Potree: \n",
    "\n",
    "### [PotreeConverter](https://github.com/potree/PotreeConverter)\n",
    "Generates an [octree LOD structure](./Concepts.ipynb) for streaming and real-time rendering of massive point clouds. In simple words, PotreeConverter takes the point cloud produced photogrammetry or Lidar technology in for example ODM and convert it into an interactive, web-based visualizations called Potree point clouds. The results can be viewed in web browsers with Potree or as a desktop application with PotreeDesktop.\n",
    "Download Potree converter from [GitHub](https://github.com/potree/PotreeConverter). Since our interest is not to modify source code of the application, the version to be downloaded can be found in the “about section - [releases](https://github.com/potree/PotreeConverter/releases)” right side of the PotreeConverter GitHub website, see figure\n",
    "\n",
    "<img src=\"./Images/Download2.png\" alt=\"Alternative text\" />\n",
    "<img src=\"./Images/Download4.png\" alt=\"Alternative text\" />\n",
    "\n",
    "Save this “binary - not the source code” and extract it. Locate the command prompt application in windows and with the cd command locate the folder where potree converter is located, to make it easier, you can simply open the file explorer and look for the downloaded and extracted folder, right click in the folder and click the option “copy as a path” and in the command prompt paste this after the cd command separated by a space:  \n",
    "\n",
    "Example: \n",
    "\n",
    "`C:\\Users\\isabe> cd \"C:\\Potree\\PotreeConverter_2.1.1_x64_windows\\PotreeConverter_windows_x64\"`<br>\n",
    "`C:\\Users\\isabe>` is the defult command prompt location in my compute, \n",
    "\n",
    "After that, to convert the first point cloud is only necessary to use the following command on the command prompt: \n",
    "\n",
    "`./PotreeConverter.exe C:/pointcloud.las -o C:/xampp/htdocs/potree --generate-page pageName`\n",
    "\n"
   ]
  },
  {
   "cell_type": "raw",
   "id": "84e1ed19-1aa7-4552-bf7d-92515450b4d8",
   "metadata": {},
   "source": [
    "Ojo: En el GitHub PotreeConverter.exe <input> -o <outputDir> available (check)  "
   ]
  },
  {
   "cell_type": "markdown",
   "id": "15622f1e-f5a4-402b-849c-7eaa8a4c5c9c",
   "metadata": {},
   "source": [
    "In  the previous command:<br>\n",
    "`./` refers to the path where the PotreeConverter.exe file is located <br>\n",
    "`-o` refers to the output folder <br>\n",
    "`--generate-page` is the command used convert the given point cloud and should not be modified and, <br>\n",
    "`pageName` is the name of the html page where the point cloud would be deployed.  \n",
    "\n",
    "Example:  \n",
    "\n",
    "`./PotreeConverter.exe C:\\Users\\isabe\\CloudCompare\\SommerFlight.las -o C:\\Potree\\potree-develop\\pointclouds --generate-page FirstTry`\n",
    "\n",
    "When an error like “Encountered point outside bounding box” is encountered, the point cloud has not been well exported and needs to be repaired or exported again. You can:\n",
    "\n",
    "1. Export the LAS/LAZ file again checking the bounding box \n",
    "2. Repair using  lasinfo `-repair_bb`\n",
    "\n",
    "The result of this step will be a folder with a set of files as can be seen in figure \n",
    "\n",
    "<img src=\"./Images/Result.png\" alt=\"Alternative text\" />\n",
    "\n",
    "Where a modifiable HTML file with the basic HTML and JavaScript code lines to visualize the point cloud on the web, the folder libs which contains the libraries necessaries to run the HTML file, the pointclouds folder containing the converted point cloud. To be able to visualize this in a web engine a server with access to the internet or PotreeDevelop with its local server will be necessary.\n",
    "\n",
    "### [PotreeDevelop](https://github.com/potree/potree) \n",
    "\n",
    "Creates/builds the potree application and starts a web server at localhost:1234 allowing us to edit and develop several Potree examples. \n",
    "\n",
    "\n",
    "\n",
    "1. [node.js](http://nodejs.org/) which is an open source, cross platform JavaScript runtime environment should be installed. Explanation in [Youtube](https://www.youtube.com/watch?v=yEHCfRWz-EI). \n",
    "\n",
    "2. Download Potree from GitHub main page, with the \"download zip option\", see figure. \n",
    "\n",
    "<img src=\"./Images/Screenshot 2023-04-21 091731.png\" alt=\"Alternative text\" />\n",
    "\n",
    "3. Move the downloaded folder to a permanent location and extract it.\n",
    "\n",
    "4. With the command prompt and the `cd` command, navigate to the directory location containing Potree.\n",
    "\n",
    "5. Use `npm init` to initialize a new Node.js project and when asked for license you can use MIT.\n",
    "\n",
    "6. Use `npm install` to install dependencies and packages listed in the `package.json` file of the project.\n",
    "\n",
    "7. Use `gulp build`: The exact tasks performed by gulp build depend on the Gulpfile in the project, we wont go into this detail.\n",
    "\n",
    "8. Use the `npm start` command to\n",
    "    * create `./build/potree`\n",
    "    * watch for changes to the source code and automatically create a new build on change\n",
    "    * start a web server at localhost:1234.\n",
    "    \n",
    "9. Go to http://localhost:1234/examples/ to test the examples. \n",
    "\n",
    "<img src=\"./Images/Screenshot 2023-04-21 101416.png\" alt=\"Alternative text\" />\n",
    "<img src=\"./Images/Screenshot 2023-04-21 101635.png\" alt=\"Alternative text\" />\n",
    "\n",
    "\n",
    "Once Potree develop is installed, to keep using it locating the command prompt in the Potree folder with the `cd` command and then using the `npm start` command would be necessary.\n",
    "\n",
    "### [PotreeDektop](https://github.com/potree/PotreeDesktop) \n",
    "\n",
    "This version allows drag&drop of point clouds into the viewer and it's also portable. It has only been tested in Windows OS.  \n",
    "\n",
    "\n",
    "\n",
    " \n",
    "\n"
   ]
  },
  {
   "cell_type": "raw",
   "id": "7ceeab01-b64d-4108-9226-ed00e82ba5ef",
   "metadata": {},
   "source": [
    "Here The installation and use of PotreeDesktop is missing (Although is not part of the workflow and would only be usefull to visualize the results off the cloud, should I explain it?)"
   ]
  },
  {
   "cell_type": "markdown",
   "id": "4ed21674-8d4f-488f-a1a4-b07035db24c1",
   "metadata": {},
   "source": [
    "### Potree basic configuration and recommendations \n",
    "\n",
    "Once the basics are completed (Installation and first conversion of the point cloud), in this chapter, a customization of the web environment with HTML and JavaScript using the examples provided in the Potree GitHub and other (third party) are explained. The basic structure of the Potree HTML file produced by Potree is as follows: "
   ]
  },
  {
   "cell_type": "raw",
   "id": "217ad8ff-83ff-4253-b29e-14ab943e95ea",
   "metadata": {
    "tags": []
   },
   "source": [
    "<!DOCTYPE html>\n",
    "<html lang=\"en\">\n",
    "  <head>\n",
    "    ...\n",
    "  </head>\n",
    "  <body>\n",
    "    ...\n",
    "    <div </div>\n",
    "    <script> </script>\n",
    "    ...\n",
    "  </body>"
   ]
  },
  {
   "cell_type": "markdown",
   "id": "6e8016ee-b3aa-4ecd-b522-e5c1e6c4c4a5",
   "metadata": {},
   "source": [
    "`<!DOCTYPE html>` tells the browser that the document is an HTML document, `<html>` is the root element of the HTML document and contains all the other elements while `lang=”en”` sets the language of the web environment. `<head>` contains the title of the document, which is displayed in the title bar of the browser, and it also includes several `<meta>` tags and links to several external CSS stylesheets.  \n",
    "\n",
    "The section `<body>` contains all the visible content of the document, starting with `<script src=\"./libs/jquery/jquery-3.1.1.min.js\"></script>` script tags that load JavaScript libraries from various locations. Later, a container for the point cloud viewer is created with the tag div, containing two child div elements: `potree_render_area` is where the point cloud will be displayed, and `potree_sidebar_container` is where the Potree GUI controls will be placed. \n",
    "\n",
    "In the rest of the body, inside a script tag, a new instance of the Potree Viewer is created and initialized it with specific settings. The code sets the viewer's EDL (Eye-Dome Lighting) effect to enabled, field of view to 60 degrees, and point budget to 2 million points. It then loads the viewer settings from the URL and sets the viewer's description to an empty string. The code also loads the Potree GUI and sets its language to English. It shows certain GUI menus and toggles the sidebar. At the end, the code loads a point cloud from a metadata file, this point cloud is the one called when using Potree Converter and adds it to the viewer's scene. It sets some material properties for the point cloud and fits the viewer to the screen. \n",
    "\n",
    "A basic view of the point cloud and functionalities are provided in the side bar as shown in the figure x  "
   ]
  }
 ],
 "metadata": {
  "kernelspec": {
   "display_name": "Python 3 (ipykernel)",
   "language": "python",
   "name": "python3"
  },
  "language_info": {
   "codemirror_mode": {
    "name": "ipython",
    "version": 3
   },
   "file_extension": ".py",
   "mimetype": "text/x-python",
   "name": "python",
   "nbconvert_exporter": "python",
   "pygments_lexer": "ipython3",
   "version": "3.11.3"
  }
 },
 "nbformat": 4,
 "nbformat_minor": 5
}
