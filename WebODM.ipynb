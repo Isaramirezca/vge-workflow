{
 "cells": [
  {
   "cell_type": "markdown",
   "id": "d6b65bd0-8019-468c-9c78-a56d2f40e210",
   "metadata": {},
   "source": [
    "## Open Drone Map\n",
    "\n",
    "Open Drone Map (ODM) is a free and open-source software package that is used to process and generate 3D models, point clouds, and orthomosaic maps from drone or UAV imagery. It is a comprehensive photogrammetry tool that can automatically generate detailed 3D models and maps from aerial photographs captured by drones or other unmanned aircraft. ODM is built on top of several open-source libraries and tools, including OpenCV, OpenSfM, and the Python programming language. ODM can be used for a variety of applications, including land surveying, agriculture, forestry, environmental monitoring, and construction. It can help to reduce the cost and time required for mapping and surveying projects, while also providing accurate and detailed results.Recently ODM released user-friendly application and API named WebODMIt, this application provides a web interface to ODM with visualization, storage and data analysis functionality.\n",
    "\n",
    "The minimum requirements for running the software are a 64bit CPU manufactured on or after 2010, 20 GB of disk space and 4 GB RAM, however much better specifications are needed to process the average amount of images in these projects. In the ODM documentation, the recommended requirements are latest Generation CPU 100 GB of disk space and 16 GB RAM and a chart with minimum RAM requirements per number of images is also referred (See figure).  \n",
    "<img src=\"./Images/Screenshot 2023-04-20 202547.png\" alt=\"Alternative text\" />\n",
    "\n",
    "For a medium size project (with an area of around X km2) with double grid, around 1200 images would be obtained, a way to work with this would be having a minimum 32GB of ram and only selecting DSM in the processing options thus, creating the DTM afterward or with CloudCompare.   "
   ]
  },
  {
   "cell_type": "markdown",
   "id": "80aeb302-a393-48e8-9cac-af101162e939",
   "metadata": {},
   "source": []
  },
  {
   "cell_type": "code",
   "execution_count": null,
   "id": "c113290a-bf4b-414c-8b15-17807560aa86",
   "metadata": {},
   "outputs": [],
   "source": []
  }
 ],
 "metadata": {
  "kernelspec": {
   "display_name": "Python 3 (ipykernel)",
   "language": "python",
   "name": "python3"
  },
  "language_info": {
   "codemirror_mode": {
    "name": "ipython",
    "version": 3
   },
   "file_extension": ".py",
   "mimetype": "text/x-python",
   "name": "python",
   "nbconvert_exporter": "python",
   "pygments_lexer": "ipython3",
   "version": "3.11.3"
  }
 },
 "nbformat": 4,
 "nbformat_minor": 5
}
