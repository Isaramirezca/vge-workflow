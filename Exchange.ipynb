{
 "cells": [
  {
   "cell_type": "markdown",
   "id": "33032b0e-c244-4ffc-9a7c-dab2aa43b36e",
   "metadata": {},
   "source": [
    "## Github\n",
    "\n",
    "GitHub is a web-based platform for version control and collaborative software development. Github uses an application known as Git to apply version control to your code. It allows developers to host their code repositories in the cloud and collaborate with other developers from around the world. GitHub provides a number of features that make it a popular platform for software development, including:\n",
    "\n",
    "1. Version control: Allows developers to track changes to their code over time.\n",
    "\n",
    "2. Collaboration tools: Provides tools for managing code reviews, pull requests, and discussions, which make it easy for developers to collaborate and contribute to a project.\n",
    "\n",
    "3. Project management tools: Provides tools for tracking issues, organizing tasks, and managing project milestones, which help developers keep track of the progress of their projects.\n",
    "\n",
    "4. Hosting: Provides free hosting for public repositories and paid hosting for private repositories, which makes it easy for developers to collaborate on open-source projects.\n",
    "\n",
    "Files for a project are stored in a central remote location known as a repository. Every time you make a change locally on your machine and push to Github your remote version is updated and a store of that commit is recorded. If you want to rollback to a previous version of your project before you made a commit this record allows you to do this.\n",
    "\n",
    "Additionally, because the project files are stored remotely anyone else with access can download the repo and make changes to the project. The concept of branching, which in essence means you make a temporary copy of the project which is completely separate, means you can make changes there first without fear of breaking anything. This is especially important if you are working on a project where there is a feature in production that is reliant on the code working.\n",
    "\n",
    "To get help about any git command you can type `git command --help` in the command prompt, replace `command` with any command you need help with \n",
    "\n",
    "#### Creating a repository\n",
    "\n",
    "1. To create a repository from scratch go to [github](https://github.com), the go to repositories and click the `new` button.\n",
    "2. In the page that you get you have to type a name for your project and select whether you want to make this public or private.\n",
    "\n",
    "<img src=\"./Images/Screenshot 2023-04-21 115005.png\" alt=\"Alternative text\" />\n",
    "\n",
    "3. Next, you want to check the box `initialise with a README.md` and click `create repository`. Now adding files and make changes to files in the repository is possible\n",
    "\n",
    "4. Download and install Git. Detailed instructions are available [here](./Basics.ipynb) <!-- Not done yet -->\n",
    "\n",
    "Cloning the repository is necessary to work on the project locally, for this\n",
    "\n",
    "5. Navegate to your directory with `cd my-folder`. In case you are working with Windows and your folder is in the disk D: use `cd /d my-folder`\n",
    "\n",
    "6. Copy the URL for the repository by clicking the `code` button.\n",
    "\n",
    "<img src=\"./Images/Screenshot 2023-04-21 125104.png\" alt=\"Alternative text\" />\n",
    "\n",
    "7. Clone the repository with help of the command prompt with `git clone` for example `git clone https://github.com/Isaramirezca/vge-workflow.git`.\n",
    "\n",
    "\n",
    "#### Using the repository\n",
    "\n",
    "Before any action is best to check that the local project is up to date with the remote repository. You can check the status by typing `git status`. It is possible that a message like the following will appear `fatal: detected dubious ownership in repository at directory_name`. To be able to use the created folder it has to be added to the `safe directory`, here some [explanation](https://medium.com/@thecodinganalyst/git-detect-dubious-ownership-in-repository-e7f33037a8f). \n",
    "\n",
    "To add it use `git config --global --add safe.directory` for example `git config --global --add safe.directory D:/TESIS_LAMBERTY/JupyterNotebook/vge-workflow`\n",
    "\n",
    "##### Creating a branch\n",
    "\n",
    "1. When located in the local project folder using the command `git branch` will show you that at the moment you are located in the `*main` branch.\n",
    "\n",
    "2. To create a new branch and not work in the main `git branch branch_name` can be used. replace branch_name with the name you want to give to your branch.\n",
    "\n",
    "3. To move to the branch `git checkout branch_name` and `git branch` will show you that now you are located in the `*branch_name` branch.\n",
    "\n",
    "\n"
   ]
  }
 ],
 "metadata": {
  "kernelspec": {
   "display_name": "Python 3 (ipykernel)",
   "language": "python",
   "name": "python3"
  },
  "language_info": {
   "codemirror_mode": {
    "name": "ipython",
    "version": 3
   },
   "file_extension": ".py",
   "mimetype": "text/x-python",
   "name": "python",
   "nbconvert_exporter": "python",
   "pygments_lexer": "ipython3",
   "version": "3.11.3"
  }
 },
 "nbformat": 4,
 "nbformat_minor": 5
}
