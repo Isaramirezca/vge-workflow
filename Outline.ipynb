{
 "cells": [
  {
   "cell_type": "markdown",
   "id": "1c439c94-df0b-4e4f-b714-4c907833af6c",
   "metadata": {},
   "source": [
    "# Virtual Geographic Environments Workflow"
   ]
  },
  {
   "cell_type": "markdown",
   "id": "d75aba06-5382-48fe-9f3e-bd12120f73ad",
   "metadata": {},
   "source": [
    "<!-- First here an explanation of the “workflow” like for example what can be expected and what should not be expected, also a brief description of what you can find in each section. It would also be very important to have some kind of diagrams here \n",
    "#have a look at my ipad/Methodology#\n",
    "This works focus is on the processing and visualization of the obtained photogrammetric data, however, some minimum requirements and steps before and during the mission will be described. \n",
    "\n",
    "In case I want to brake this in several notebooks 1. [Preparatory work](./Preparatory_Work.ipynb) -->"
   ]
  },
  {
   "cell_type": "markdown",
   "id": "8c643521-eccd-4905-b041-c363e37363ad",
   "metadata": {},
   "source": [
    "\n",
    "## Outline\n",
    "\n",
    "[Basics for non programmers](./Basics.ipynb)\n",
    "\n",
    "* [Preparatory work](./Preparatory_Work.ipynb)\n",
    "    1. Resources and Data collection preparation (Designing the mission, parameters, the mission itself). \n",
    "    2. Pix4D Capture \n",
    "<br>\n",
    "* After the mission (Imagery processing)<br>\n",
    "    1. [WebODM](./WebODM.ipynb)(Processing the orthophotos)<br>\n",
    "    2. [CloudCompare](./CLoudCompare.ipynb) (Manipulating point cloud, classification)<br>\n",
    "    3. [Potree](./Potree.ipynb) (Converting Point Cloud into Potree format)<br>\n",
    "    4. [Visual Studio Code](./Visual_Studio_Code.ipynb) (Customizing the html file, Some examples) <br>\n",
    "* Server (Back-End) Configuration? <br>\n",
    "* [Exchange](./Exchange) (Github and Jupiter Notebook)<br>\n",
    "\n",
    "\n",
    "\n",
    "\n",
    "\n"
   ]
  },
  {
   "cell_type": "raw",
   "id": "31df9ab1-3601-41ff-8d6d-8402e7f48743",
   "metadata": {},
   "source": [
    "https://medium.com/analytics-vidhya/the-ultimate-markdown-guide-for-jupyter-notebook-d5e5abf728fd \n",
    "Here a Markdown guide \n"
   ]
  },
  {
   "cell_type": "markdown",
   "id": "732d56d6",
   "metadata": {},
   "source": [
    "\n"
   ]
  }
 ],
 "metadata": {
  "kernelspec": {
   "display_name": "Python 3 (ipykernel)",
   "language": "python",
   "name": "python3"
  },
  "language_info": {
   "codemirror_mode": {
    "name": "ipython",
    "version": 3
   },
   "file_extension": ".py",
   "mimetype": "text/x-python",
   "name": "python",
   "nbconvert_exporter": "python",
   "pygments_lexer": "ipython3",
   "version": "3.11.3"
  }
 },
 "nbformat": 4,
 "nbformat_minor": 5
}
