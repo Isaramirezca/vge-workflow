{
 "cells": [
  {
   "cell_type": "markdown",
   "id": "1c439c94-df0b-4e4f-b714-4c907833af6c",
   "metadata": {},
   "source": [
    "# Virtual Geographic Environments Workflow"
   ]
  },
  {
   "cell_type": "markdown",
   "id": "d75aba06-5382-48fe-9f3e-bd12120f73ad",
   "metadata": {},
   "source": [
    "This document shows a straightforward workflow to create an initial Virtual Geographic Environment from drone images and through the use of only Free and Open Source Software. This works focus is on the processing and visualization of the obtained photogrammetric data. However, some minimum requirements and steps before and during the drone mission will be described. \n",
    "\n",
    "Please go to the [conceptual background](Concepts.ipynb#VGE) to understand the project.\n",
    "Prueba de cómo linkear una celda en específico \n",
    "\n",
    "A big part of the workflow can be followed with MacOS. However, the visualization and interactivity with the point cloud can until now only be done with WindowsOS. Once Potree is available for MacOS the entire workflow will also be replicable with this Operative Sistem.  \n",
    "\n"
   ]
  },
  {
   "cell_type": "markdown",
   "id": "8c643521-eccd-4905-b041-c363e37363ad",
   "metadata": {},
   "source": [
    "\n",
    "## Outline\n",
    "\n",
    "\n",
    "\n",
    "[Basics for non programmers](./Basics.ipynb)\n",
    "\n",
    "1. [Preparatory work](./Preparatory_Work.ipynb)<br> \n",
    "\n",
    "\n",
    "2. After the mission (Imagery processing)<br>\n",
    "     [WebODM](./WebODM.ipynb)(Processing the orthophotos)<br>\n",
    "     [CloudCompare](./CLoudCompare.ipynb) (Manipulating point cloud, classification)<br>\n",
    "     [Potree](./Potree.ipynb) (Converting Point Cloud into Potree format)<br>\n",
    "\n",
    "3. [Exchange](./Exchange) (Github and Jupiter Notebook)<br>\n",
    "\n"
   ]
  },
  {
   "cell_type": "markdown",
   "id": "16745a24-47b7-4011-b452-c59a1388088c",
   "metadata": {
    "tags": []
   },
   "source": [
    "# Credits\n",
    "\n",
    "Hi there, my name is Isabel Ramírez, I am not a computer scientist and I created this tool to be understandable and affordable for non-developers. If you want to add features, instructions or resources  you can make a branch of [this project](https://github.com/Isaramirezca/vge-workflow) in GitHub and use Jupiter Notebooks to add your contrinutions. \n",
    "\n",
    "Otherwise you can also write me an email to isabel.ramirez@correounivalle.edu.co and I will add your contributions with credits. \n",
    "\n",
    "If you find mistakes, I would appreciate the heads up.  \n",
    "\n",
    "\n",
    "* The code found in the showcase is based on the Potree project, its examples and showcases.\n",
    "* Potree is a free open-source WebGL based point cloud renderer for large point clouds. It is based on the [TU Wien Scanopy project](https://www.cg.tuwien.ac.at/research/projects/Scanopy/) and research projects [Harvest4D](https://harvest4d.org/), [GCD Doctoral College](https://gcd.tuwien.ac.at/) and [Superhumans](https://www.cg.tuwien.ac.at/research/projects/Superhumans/).\n",
    "* This workflow was created as part of the thesis \"Virtual Geographic Environments for Education and Public Outreach in River Development. Showcase: The Erft River Restoration Project in Neuss-Gnadental, Germany\" for obtaining the Master's degree Master of Science in the study program Integrated Water Resources Management at the [Institute for Technology and Resources Management in the Tropics and Subtropics](https://www.tt.th-koeln.de/) at [TH Köln University of applied Sciences](https://www.th-koeln.de/), Cologne, Germany under the supervision of the Dr. rer. nat. [Georg Lamberty](https://www.th-koeln.de/personen/georg.lamberty/).\n",
    "* The thesis is also part of the Valley of Mercy project wich aims to developing a virtual teaching-learning space for the subject area \"spatal development\" using the example of the Erft restoration in Gnadental (Neuss)\n",
    "* Part of the applied research project was financed by the [Planungsbüro Zumbroich](https://www.zumbroich.com/de/home)\n"
   ]
  },
  {
   "cell_type": "markdown",
   "id": "f269d043-fc13-4267-8574-ef34701ccf31",
   "metadata": {},
   "source": [
    "<!-- https://medium.com/analytics-vidhya/the-ultimate-markdown-guide-for-jupyter-notebook-d5e5abf728fd \n",
    "Here a Markdown guide  -->\n"
   ]
  },
  {
   "cell_type": "markdown",
   "id": "732d56d6",
   "metadata": {},
   "source": [
    "\n"
   ]
  }
 ],
 "metadata": {
  "kernelspec": {
   "display_name": "Python 3 (ipykernel)",
   "language": "python",
   "name": "python3"
  },
  "language_info": {
   "codemirror_mode": {
    "name": "ipython",
    "version": 3
   },
   "file_extension": ".py",
   "mimetype": "text/x-python",
   "name": "python",
   "nbconvert_exporter": "python",
   "pygments_lexer": "ipython3",
   "version": "3.11.3"
  }
 },
 "nbformat": 4,
 "nbformat_minor": 5
}
