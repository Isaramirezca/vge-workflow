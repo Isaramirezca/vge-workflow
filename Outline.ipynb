{
 "cells": [
  {
   "cell_type": "markdown",
   "id": "1c439c94-df0b-4e4f-b714-4c907833af6c",
   "metadata": {},
   "source": [
    "# Virtual Geographic Environments Workflow"
   ]
  },
  {
   "cell_type": "markdown",
   "id": "d75aba06-5382-48fe-9f3e-bd12120f73ad",
   "metadata": {},
   "source": [
    "<!-- First here an explanation of the “workflow” like for example what can be expected and what should not be expected, also a brief description of what you can find in each section. It would also be very important to have some kind of diagrams here \n",
    "#have a look at my ipad/Methodology#-->\n",
    "\n",
    "This document shows a straightforward workflow to create an initial Virtual Geographic Environment from drone images and through the use of only Free and Open Source Software. This works focus is on the processing and visualization of the obtained photogrammetric data. However, some minimum requirements and steps before and during the drone mission will be described. \n",
    "\n",
    "A big part of the workflow can be followed with MacOS. However, the visualization and interactivity with the point cloud can until now only be done with WindowsOS. Once Potree is available for MacOS the entire workflow will also be replicable with this Operative Sistem.  \n",
    "\n",
    "Hi there, my name is Isabel Ramírez, I am not a computer scientist and I created this tool to be understandable and affordable for non-developers. If you want to add, features, instructions or resources  you can make a branch of this project in [Github](https://github.com/Isaramirezca/vge-workflow) and use Jupiter Notebooks to add your findings. \n",
    "\n",
    "Otherwise you can also write me an email to isabel.ramirez@correounivalle.edu.co and I will add your contributions with credits. \n",
    "\n",
    "If you find mistakes, I would appreciate the heads up.  \n",
    "\n",
    "<!-- In case I want to brake this in several notebooks 1. [Preparatory work](./Preparatory_Work.ipynb)  -->"
   ]
  },
  {
   "cell_type": "markdown",
   "id": "8c643521-eccd-4905-b041-c363e37363ad",
   "metadata": {},
   "source": [
    "\n",
    "## Outline\n",
    "\n",
    "[Basics for non programmers](./Basics.ipynb)\n",
    "\n",
    "1. [Preparatory work](./Preparatory_Work.ipynb)<br> \n",
    "    Resources and Data collection preparation (Designing the mission, parameters, the mission itself).<br> \n",
    "    Pix4D Capture? <br>\n",
    "\n",
    "2. After the mission (Imagery processing)<br>\n",
    "     [WebODM](./WebODM.ipynb)(Processing the orthophotos)<br>\n",
    "     [CloudCompare](./CLoudCompare.ipynb) (Manipulating point cloud, classification)<br>\n",
    "     [Potree](./Potree.ipynb) (Converting Point Cloud into Potree format)<br>\n",
    "<!--      [Visual Studio Code](./Visual_Studio_Code.ipynb) (Customizing the html file, Some examples) <br> -->\n",
    "3. Server (Back-End) Configuration? <br>\n",
    "4. [Exchange](./Exchange) (Github and Jupiter Notebook)<br>\n",
    "\n",
    "\n",
    "\n",
    "\n",
    "\n"
   ]
  },
  {
   "cell_type": "markdown",
   "id": "f269d043-fc13-4267-8574-ef34701ccf31",
   "metadata": {},
   "source": [
    "<!-- https://medium.com/analytics-vidhya/the-ultimate-markdown-guide-for-jupyter-notebook-d5e5abf728fd \n",
    "Here a Markdown guide  -->\n"
   ]
  },
  {
   "cell_type": "markdown",
   "id": "732d56d6",
   "metadata": {},
   "source": [
    "\n"
   ]
  }
 ],
 "metadata": {
  "kernelspec": {
   "display_name": "Python 3 (ipykernel)",
   "language": "python",
   "name": "python3"
  },
  "language_info": {
   "codemirror_mode": {
    "name": "ipython",
    "version": 3
   },
   "file_extension": ".py",
   "mimetype": "text/x-python",
   "name": "python",
   "nbconvert_exporter": "python",
   "pygments_lexer": "ipython3",
   "version": "3.11.3"
  }
 },
 "nbformat": 4,
 "nbformat_minor": 5
}
