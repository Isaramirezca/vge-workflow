{
 "cells": [
  {
   "cell_type": "markdown",
   "id": "c4ffdcfe-611b-4f6b-bf72-34806ae240f0",
   "metadata": {},
   "source": [
    "## Resources \n",
    "\n",
    "[Back to the Outline](./Outline.ipynb)<br>\n",
    "\n",
    "To collect the data a basic set of tools and procedures are necessary: \n",
    "\n",
    "### Preparations \n",
    "\n",
    "The planning phase for aerial mapping can be extensive, the beginning should be defining the purpose of the flight and later reviewing aerial photographs and satellite imagery to gain a first idea of the area, e.g., presence of buildings or vegetation, is incredibly useful. Ensuring the licit and safe operation of UAVs requires strict adherence to local regulations and legal requirements. This includes obtaining the necessary pilot licenses and permits required for UAV operation. \n",
    "\n",
    "Some examples of where to find specific legal information are the European Union Aviation Safety Agency’s [Drone section](https://www.easa.europa.eu/en/the-agency/faqs/drones-uas), the Digital Platform for Unmanned Aviation (Digitale Plattform Unbemannte Luftfahrt, [dipul](https://www.dipul.de/homepage/de/)), which provides all the essential information for the use of drones in Germany or the Aeronautica Civil’s specific [Drone regulations](https://www.aerocivil.gov.co/servicios-a-la-navegacion/sistema-de-aeronaves-pilotadas-a-distancia-rpas-drones) in Colombia. \n",
    "The stability of the UAV and the quality of the data it captures can be influenced by environmental conditions. Therefore, it's crucial to evaluate weather conditions in the survey area both before and during the survey. \n",
    "\n",
    "### Drone\n",
    "\n",
    "Depending on the size of the project different types of drones could be used, therefore, when buying a drone for mapping purposes, there are several key factors to consider: \n",
    "\n",
    "* Flight time: longer flight time means more coverage of the area to map. A drone with a flight time of at least 20-30 minutes should be selected. \n",
    "\n",
    "* Payload Capacity: For mapping, carrying additional equipment might be needed, such as cameras or sensors. Make sure the drone you choose has enough payload capacity to carry the equipment you need. \n",
    "\n",
    "* Stability: Mapping requires the drone to fly in a steady, controlled manner. Consider a drone with advanced stability features such as obstacle avoidance, auto-landing, and return-to-home functionality. \n",
    "\n",
    "* Cost: Drones for mapping purposes can range from a few hundred dollars to several thousand dollars. Considering budget and the specific mapping needs, the right drone for your needs. \n",
    "\n",
    "* Software: Any free available software to control the drone, set the mission, and obtain the orthophotos like pix4D Capture can be used. In the case of data processing, the recommended software, its installation, and basic use will be detailed later in this workflow. \n",
    "\n",
    "### Camera \n",
    "\n",
    "To produce a simple point cloud map, only an RGB camera is needed, which typically comes equipped with high-quality drones. However, if additional sensors or an external camera are required, the UAV (Unmanned Aerial Vehicle) airframe system can accommodate external payloads. It's important to note that the loading capacity of a UAV system is limited by the maximum payload that the airframe can carry while remaining stable. For safe and efficient operation, the total weight of the airframe and external payload should not exceed the maximum take-off mass limit, which can be found in the manual for each drone. \n",
    "\n",
    "* [Camera Quality](https://www.geoconnexion.com/in-depth/choosing-the-right-camera-for-drone-mapping) (RGB Camera for land survey purposes): A high-resolution camera with a large image sensor is essential for mapping. Look for a drone with a camera that can capture fine details, such as 4K or higher resolution. \n",
    "\n",
    "* Other types of cameras: In the case of needing vegetation analysis (like obtaining NDVI) \n"
   ]
  },
  {
   "cell_type": "raw",
   "id": "a152fe8f-2868-4ef7-9b43-cfed3c0af70c",
   "metadata": {},
   "source": [
    "Specifically, it is critical to calibrate the camera exposure time before image acquisition based on the overall light intensity on the day of the survey. Other camera parameters, such as focal length, shutter speed and aperture, are crucial for improving the quality of the aerial images. From these camera parameters, the operator can determine and adjust the ground resolution (cm/pixel), percentage of adjacent image overlap and camera pitch angle during the flight planning. From the web page http://aquibjaved.com/project2/index.php/preflight/\n"
   ]
  },
  {
   "cell_type": "markdown",
   "id": "553f34c6-00c9-4b89-b962-f814f32ca568",
   "metadata": {},
   "source": [
    "### Ground Control Points \n",
    "\n",
    "* GPS Accuracy: For relative accuracy, a drone with a camara which uses GNSS system is necessary, and depending on the project high global accuracy might be necessary. In this case a drone with RTK technology should be considered. \n",
    "\n",
    "#### Ways to capture GCPs  \n",
    "\n",
    "1. Captured in the field (With GNSS system - Satellite technology) (cm accuracy) \n",
    "\n",
    "    1. RTK: RTK Drones, 2 GNSS Receivers as [Base and Rover](https://www.youtube.com/watch?v=Rk09oMD_I24) or with post process kinematic and adding the GCPs later, One GNSS Receiver and using [CORS network](https://www.youtube.com/watch?v=uytd48Vb-fs) (the furthest you can be is 15 Km)\n",
    "\n",
    "    2. Static: with one GNSS Receiver through highly stable GPS Occupation: 2 hours left in the point or Rapid Static: 15 min, the data collected (hundreds of points) is submitted to a positioning service, we get back corrections with an accuracy of mm. This is used to establish benchmarks.  \n",
    "\n",
    "2. Existing Points (If an already existing trusted map is georeferenced points from this map can be used as GCPs) \n",
    "\n",
    "3. GCPs from web Map Services (The accuracy varies with the location around the world) (Accuracy of meters) (Same as Consumer Grade GPS) (Accuracy of 5 to 10 m). \n",
    "\n",
    "### Calibration\n",
    "\n",
    "Proper calibration of equipment, including the UAV’s remote controller and computer, is a crucial step before flying. This ensures that the system is functioning optimally and reduces the risk of crashes or system failures due to malfunction. \n",
    "\n",
    "## Data Collection (Fluvial Remote Sensing / Drone Missions) \n",
    "\n",
    "\n",
    "We opted to utilize pix4D Capture as our primary application for creating the mapping mission, given its free-of-charge nature and since it is already in use at the ITT. Although other applications such as DJI Ground Station Pro, Drone Deploy, Maps Made Easy, and Altizure are also available for this purpose. \n",
    "\n",
    "As the image acquisition plan has a high impact on the quality of the results, it is important to design it carefully. Download and install Pix4DCapture on any mobile device (tablet or smartphone) and create an account. Flight Hight restrictions should be checked to avoid restricted air spaces. Select “New mission” and choose the correct image acquisition plan.  \n",
    "\n",
    "Image Acquisition plan: As the image acquisition plan has a high impact on the quality of the results, it is important to design it carefully. The main rule (since I already explained in the main document) is to maintain a high overlap between the images. The recommended overlap for cases like in the winter or in areas where no dense vegetation is present is at least 75% frontal overlap (with respect to the flight direction) and at least 60% side overlap (between flying tracks). It is recommended to take the images with a regular grid pattern and the camera should be maintained at a constant height over the terrain/object to ensure the desired GSD (Ground Sampling Distance), this is ensured by the atomization of the flight with an application. For areas with dense vegetation, the overlap should be increased at least until 85% (frontal and side overlap) and also the flight high should be increased since at higher altitudes there is less perspective distortion (therefore causing fewer appearance problems) and the dense vegetation has better visual properties. The best results are obtained with a GSD higher than 10cm/pixel. [More info on this](https://support.pix4d.com/hc/en-us/articles/202557459-Step-1-Before-Starting-a-Project-1-Designing-the-Image-Acquisition-Plan-a-Selecting-the-Image-Acquisition-Plan-Type-PIX4Dmapper) \n",
    "\n",
    "Water surfaces pose a challenge for visual matching due to their large uniform areas and the inability to use sun reflection and waves for this purpose. While oceans are impossible to reconstruct, other water surfaces such as rivers or lakes can be reconstructed if each image includes land features. In such cases, flying higher may help include more land features. \n"
   ]
  },
  {
   "cell_type": "raw",
   "id": "7e375c37-def5-4574-a2cf-979a5c0f417d",
   "metadata": {},
   "source": [
    "Do we use Pix4D Capture to calibrate? Is there any calibration procedure? The calibration that needs to be done is the compass, camera, and IMU."
   ]
  },
  {
   "cell_type": "markdown",
   "id": "b9d2a1f7-c703-4b46-a518-111b970cd325",
   "metadata": {},
   "source": [
    "[Back to the Outline](./Outline.ipynb)<br>"
   ]
  }
 ],
 "metadata": {
  "kernelspec": {
   "display_name": "Python 3 (ipykernel)",
   "language": "python",
   "name": "python3"
  },
  "language_info": {
   "codemirror_mode": {
    "name": "ipython",
    "version": 3
   },
   "file_extension": ".py",
   "mimetype": "text/x-python",
   "name": "python",
   "nbconvert_exporter": "python",
   "pygments_lexer": "ipython3",
   "version": "3.11.3"
  }
 },
 "nbformat": 4,
 "nbformat_minor": 5
}
