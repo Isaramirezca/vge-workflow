{
 "cells": [
  {
   "cell_type": "markdown",
   "id": "9007cd67-c7dd-423e-b707-e2362898d950",
   "metadata": {
    "tags": []
   },
   "source": [
    "[Back to the Outline](./Outline.ipynb)<br>\n",
    "\n",
    "<a id='Command-Line'></a>\n",
    "\n",
    "# Command Line\n",
    "\n",
    "The command line is a text-based interface in which users can enter commands to interact with a computer's operating system or other software applications. It is also known as the Command Prompt or Terminal. In the command line, users can enter specific commands and parameters to execute tasks or actions. These commands can be used to perform a wide range of tasks, from simple operations like copying or deleting files, to more complex tasks like installing software or configuring system settings.\n",
    "\n",
    "The command line interface typically consists of a prompt, which indicates that the system is ready to receive a command, and a cursor, which allows users to enter text. Users can then type commands and press Enter to execute them. For windows just type command prompt in search, and for Mac will be called terminal  (See image)\n",
    "\n",
    "<figure style=\"text-align:center;\">\n",
    "    <img src=\"./Images/Screenshot 2023-04-20 204947.png\" alt=\"Windows Command Propmt\" />\n",
    "    <figcaption style=\"font-style:italic;\">\n",
    "        Installing Windows Command Propmt. Source: own elaboration \n",
    "    </figcaption>\n",
    "</figure>\n",
    "\n",
    "Some basic commands to use are\n",
    "\n",
    "1. `dir` or `ls` - Lists the contents of the current directory (Windows or Linux/macOS respectively).\n",
    "\n",
    "2. `cd` - Changes the current directory.\n",
    "\n",
    "3. `mkdir` - Creates a new directory.\n",
    "\n",
    "4. `mdir` or `rm` - Deletes a directory or file.\n",
    "\n",
    "5. `echo` - Displays a message on the screen. \n",
    "\n",
    "6. `type` - Displays the contents of a text file.\n",
    "\n",
    "7. `copy` or `cp` - Copies a file from one location to another. For example, `copy file1.txt file2.txt` would create a copy of \"file1.txt\" called \"file2.txt\".\n",
    "\n",
    "8. `move` or `mv` - Moves a file from one location to another. For example, `move file1.txt folder1` would move \"file1.txt\" to a folder called \"folder1\".\n",
    "\n",
    "Take into account that for application (e.g. Jupyter Lab, Potree, Git) a new Command Prompt should be launched.\n"
   ]
  },
  {
   "cell_type": "markdown",
   "id": "0de27306-a8d5-402e-878e-42d91f99d382",
   "metadata": {},
   "source": [
    "<a id='npm'></a>\n",
    "\n",
    "# Node Package Manager npm\n",
    "\n",
    "npm is a tool used in web development to manage and share packages or libraries of code written in JavaScript. npm is the default package manager for the Node.js runtime environment, which is used to build server-side applications using JavaScript. npm provides a command-line interface that allows developers to easily install, update, and manage packages and their dependencies. Developers can search for packages using keywords or browse through the registry to find packages that suit their needs. Once a package is installed, it can be used in a project by simply requiring it in the code. It is commonly used in front-end web development with tools like React and Angular, as well as in back-end development with Node.js.\n",
    "\n",
    "Here you can find [An Absolute Beginner's Guide to Using npm](https://nodesource.com/blog/an-absolute-beginners-guide-to-using-npm/)"
   ]
  },
  {
   "cell_type": "markdown",
   "id": "735f2901-5e83-45fd-95f1-bd0bf1ad17cc",
   "metadata": {},
   "source": [
    "<!-- <a id='Git'></a>\n",
    "\n",
    "# Install Git\n",
    "\n",
    "<br>\n",
    "\n",
    " -->\n",
    "\n",
    "\n",
    "<!-- \n",
    "Some concepts to explain\n",
    "Instance\n",
    "Potree Viewer\n",
    "html and javascripts basics (some resources?)  -->\n",
    "\n",
    "[Back to the Outline](./Outline.ipynb)<br>"
   ]
  }
 ],
 "metadata": {
  "kernelspec": {
   "display_name": "Python 3 (ipykernel)",
   "language": "python",
   "name": "python3"
  },
  "language_info": {
   "codemirror_mode": {
    "name": "ipython",
    "version": 3
   },
   "file_extension": ".py",
   "mimetype": "text/x-python",
   "name": "python",
   "nbconvert_exporter": "python",
   "pygments_lexer": "ipython3",
   "version": "3.11.3"
  }
 },
 "nbformat": 4,
 "nbformat_minor": 5
}
