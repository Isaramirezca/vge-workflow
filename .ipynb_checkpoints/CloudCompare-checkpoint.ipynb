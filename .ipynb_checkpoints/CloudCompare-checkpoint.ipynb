{
 "cells": [
  {
   "cell_type": "markdown",
   "id": "f2a99fc4-a4e7-4903-a2e1-9ab907ba5c3e",
   "metadata": {},
   "source": [
    "[Back to the Outline](./Outline.ipynb)<br>"
   ]
  }
 ],
 "metadata": {
  "kernelspec": {
   "display_name": "Python 3 (ipykernel)",
   "language": "python",
   "name": "python3"
  },
  "language_info": {
   "codemirror_mode": {
    "name": "ipython",
    "version": 3
   },
   "file_extension": ".py",
   "mimetype": "text/x-python",
   "name": "python",
   "nbconvert_exporter": "python",
   "pygments_lexer": "ipython3",
   "version": "3.11.3"
  }
 },
 "nbformat": 4,
 "nbformat_minor": 5
}
