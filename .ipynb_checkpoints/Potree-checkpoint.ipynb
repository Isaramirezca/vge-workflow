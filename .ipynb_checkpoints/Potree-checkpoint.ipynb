{
 "cells": [
  {
   "cell_type": "markdown",
   "id": "8a4ae003-3dcf-467c-b1dd-b37e07baf8a0",
   "metadata": {},
   "source": [
    "## Potree\n",
    "\n",
    "Potree is a JavaScript library for visualizing large point clouds in 3D in a web browser. It is a free open-source WebGL based point cloud renderer for large point clouds. It is based on the [TU Wien Scanopy project](https://www.cg.uuwien.ac.at/research/projects/Scanopy/). Potree is not yet in a development phase in which a user-friendly platform is available. Currently, the resources available are directed to software developers and command line use is required. Therefore, a detailed (for non-developers) step by step guide is described below. In order to install and use Potree the use of the command line is necesary, here some [basics](./Basics.ipynb).\n",
    "\n",
    "There are three ways to access Potree: \n",
    "\n",
    "### [PotreeConverter](https://github.com/potree/PotreeConverter)\n",
    "Generates an [octree LOD structure](./Concepts.ipynb) for streaming and real-time rendering of massive point clouds. In simple words, PotreeConverter takes the point cloud produced photogrammetry or Lidar technology in for example ODM and convert it into an interactive, web-based visualizations called Potree point clouds. The results can be viewed in web browsers with Potree or as a desktop application with PotreeDesktop.\n",
    "Download Potree converter from [GitHub](https://github.com/potree/PotreeConverter). Since our interest is not to modify source code of the application, the version to be downloaded can be found in the “about section - [releases](https://github.com/potree/PotreeConverter/releases)” right side of the PotreeConverter GitHub website, see figure\n",
    "\n",
    "<img src=\"./Images/Download2.png\" alt=\"Alternative text\" />\n",
    "<img src=\"./Images/Download2.png\" alt=\"Alternative text\" />\n",
    "\n",
    "Save this “binary - not the source code” and extract it. Locate the command prompt application in windows and with the cd command locate the folder where potree converter is located, to make it easier, you can simply open the file explorer and look for the downloaded and extracted folder, right click in the folder and click the option “copy as a path” and in the command prompt paste this after the cd command separated by a space:  \n",
    "\n",
    "Example: \n",
    "\n",
    "`C:\\Users\\isabe> cd \"C:\\Potree\\PotreeConverter_2.1.1_x64_windows\\PotreeConverter_windows_x64\"`<br>\n",
    "`C:\\Users\\isabe>` is the defult command prompt location in my compute, \n",
    "\n",
    "After that, to convert the first point cloud is only necessary to use the following command on the command prompt: \n",
    "\n",
    "`./PotreeConverter.exe C:/pointcloud.las -o C:/xampp/htdocs/potree --generate-page pageName`\n",
    "\n"
   ]
  },
  {
   "cell_type": "raw",
   "id": "84e1ed19-1aa7-4552-bf7d-92515450b4d8",
   "metadata": {},
   "source": [
    "Ojo: En el GitHub PotreeConverter.exe <input> -o <outputDir> available (check)  "
   ]
  },
  {
   "cell_type": "markdown",
   "id": "15622f1e-f5a4-402b-849c-7eaa8a4c5c9c",
   "metadata": {},
   "source": [
    "In  the previous command:<br>\n",
    "`./` refers to the path where the PotreeConverter.exe file is located <br>\n",
    "`-o` refers to the output folder <br>\n",
    "`--generate-page` is the command used convert the given point cloud and should not be modified and, <br>\n",
    "`pageName` is the name of the html page where the point cloud would be deployed.  \n",
    "\n",
    "Example:  \n",
    "\n",
    "`./PotreeConverter.exe C:\\Users\\isabe\\CloudCompare\\SommerFlight.las -o C:\\Potree\\potree-develop\\pointclouds --generate-page FirstTry`\n",
    "\n",
    "When an error like “Encountered point outside bounding box” is encountered, the point cloud has not been well exported and needs to be repaired or exported again. You can:\n",
    "\n",
    "1. Export the LAS/LAZ file again checking the bounding box \n",
    "2. Repair using  lasinfo `-repair_bb`\n",
    "\n",
    "The result of this step will be a folder with a set of files as can be seen in figure \n",
    "\n",
    "<img src=\"./Images/Result.png\" alt=\"Alternative text\" />\n",
    "\n",
    "Where a modifiable HTML with the basic HTML and JavaScript code lines to visualize the point cloud on the web (for this a server or PotreeDevelop with its local server will be necessary), the folder libs which contains the libraries necessaries to run the HTML file, the pointclouds folder containing the converted point cloud. \n"
   ]
  },
  {
   "cell_type": "code",
   "execution_count": null,
   "id": "e5bff603-156e-493e-84a4-4814d62b28fd",
   "metadata": {},
   "outputs": [],
   "source": []
  }
 ],
 "metadata": {
  "kernelspec": {
   "display_name": "Python 3 (ipykernel)",
   "language": "python",
   "name": "python3"
  },
  "language_info": {
   "codemirror_mode": {
    "name": "ipython",
    "version": 3
   },
   "file_extension": ".py",
   "mimetype": "text/x-python",
   "name": "python",
   "nbconvert_exporter": "python",
   "pygments_lexer": "ipython3",
   "version": "3.11.3"
  }
 },
 "nbformat": 4,
 "nbformat_minor": 5
}
