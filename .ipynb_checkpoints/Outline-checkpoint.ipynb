{
 "cells": [
  {
   "cell_type": "markdown",
   "id": "1c439c94-df0b-4e4f-b714-4c907833af6c",
   "metadata": {},
   "source": [
    "# Virtual Geographic Environments Workflow"
   ]
  },
  {
   "cell_type": "raw",
   "id": "9195f238-d1f9-4ae7-a54b-842de67f4fcc",
   "metadata": {},
   "source": [
    "First here an explanation of the “workflow” like for example what can be expected and what should not be expected, also a brief description of what you can find in each section. It would also be very important to have some kind of diagrams here \n",
    "#have a look at my ipad/Methodology#\n",
    "This works focus is on the processing and visualization of the obtained photogrammetric data, however, some minimum requirements and steps before and during the mission will be described. \n",
    "\n",
    "In case I want to brake this in several notebooks 1. [Preparatory work](./Preparatory_Work.ipynb)"
   ]
  },
  {
   "cell_type": "markdown",
   "id": "8c643521-eccd-4905-b041-c363e37363ad",
   "metadata": {},
   "source": [
    "\n",
    "## Outline\n",
    "1.  Preparatory work\n",
    "    1.1. Resources and Data collection preparation (Designing the mission, parameters, the mission itself). \n",
    "    1.2. Pix4D Capture \n",
    "\n",
    "2. After the mission \n",
    "* PC requirements\n",
    "* WebODM (Processing the orthophotos) \n",
    "* CloudCompare (Manipulating point cloud, classification)  \n",
    "* Potree (Converting Point Cloud into Potree format) \n",
    "* Visual Studio Code (Customizing the html file, Some examples) \n",
    "* Server (Back-End) Configuration? \n",
    "* Exchange (Version Control with Git, Jupiter Notebook, HTML?) \n"
   ]
  },
  {
   "cell_type": "markdown",
   "id": "732d56d6",
   "metadata": {},
   "source": [
    "\n"
   ]
  },
  {
   "cell_type": "raw",
   "id": "6dacd24b",
   "metadata": {},
   "source": []
  },
  {
   "cell_type": "markdown",
   "id": "e451c61d",
   "metadata": {},
   "source": [
    "## Resources \n",
    "\n",
    "To collect the data a basic set of tools and procedures are necessary: \n",
    "\n",
    "### Preparations \n",
    "\n",
    "The planning phase for aerial mapping can be extensive, the beginning should be defining the purpose of the flight and later reviewing aerial photographs and satellite imagery to gain a first idea of the area, e.g., presence of buildings or vegetation, is incredibly useful. \n",
    "\n",
    "Ensuring the licit and safe operation of UAVs requires strict adherence to local regulations and legal requirements. This includes obtaining the necessary pilot licenses and permits required for UAV operation. \n",
    "\n",
    "Some examples of where to find specific legal information are the European Union Aviation Safety Agency’s [Drone section](https://www.easa.europa.eu/en/the-agency/faqs/drones-uas), the Digital Platform for Unmanned Aviation (Digitale Plattform Unbemannte Luftfahrt, [dipul](https://www.dipul.de/homepage/de/)), which provides all the essential information for the use of drones in Germany or the Aeronautica Civil’s specific [Drone regulations](https://www.aerocivil.gov.co/servicios-a-la-navegacion/sistema-de-aeronaves-pilotadas-a-distancia-rpas-drones) in Colombia. \n",
    "\n",
    "The stability of the UAV and the quality of the data it captures can be influenced by environmental conditions. Therefore, it's crucial to evaluate weather conditions in the survey area both before and during the survey. \n",
    "\n",
    "### Drone\n",
    "\n",
    "Depending on the size of the project different types of drones could be used, therefore, when buying a drone for mapping purposes, there are several key factors to consider: \n",
    "\n",
    "* Flight time: longer flight time means more coverage of the area to map. A drone with a flight time of at least 20-30 minutes should be selected. \n",
    "\n",
    "* Payload Capacity: For mapping, carrying additional equipment might be needed, such as cameras or sensors. Make sure the drone you choose has enough payload capacity to carry the equipment you need. \n",
    "\n",
    "* Stability: Mapping requires the drone to fly in a steady, controlled manner. Consider a drone with advanced stability features such as obstacle avoidance, auto-landing, and return-to-home functionality. \n",
    "\n",
    "* Cost: Drones for mapping purposes can range from a few hundred dollars to several thousand dollars. Considering budget and the specific mapping needs, the right drone for your needs. \n",
    "\n",
    "* Software: Any free available software to control the drone, set the mission, and obtain the orthophotos like pix4D Capture can be used. In the case of data processing, the recommended software, its installation, and basic use will be detailed later in this workflow. \n",
    "\n",
    "### Camera \n",
    "\n",
    "To produce a simple point cloud map, only an RGB camera is needed, which typically comes equipped with high-quality drones. However, if additional sensors or an external camera are required, the UAV (Unmanned Aerial Vehicle) airframe system can accommodate external payloads. It's important to note that the loading capacity of a UAV system is limited by the maximum payload that the airframe can carry while remaining stable. For safe and efficient operation, the total weight of the airframe and external payload should not exceed the maximum take-off mass limit, which can be found in the manual for each drone. \n",
    "\n",
    "* [Camera Quality](https://www.geoconnexion.com/in-depth/choosing-the-right-camera-for-drone-mapping) (RGB Camera for land survey purposes): A high-resolution camera with a large image sensor is essential for mapping. Look for a drone with a camera that can capture fine details, such as 4K or higher resolution. \n",
    "\n",
    "* Other types of cameras: In the case of needing vegetation analysis (like obtaining NDVI) \n"
   ]
  },
  {
   "cell_type": "raw",
   "id": "0aa637d5",
   "metadata": {},
   "source": [
    "Specifically, it is critical to calibrate the camera exposure time before image acquisition based on the overall light intensity on the day of the survey. Other camera parameters, such as focal length, shutter speed and aperture, are crucial for improving the quality of the aerial images. From these camera parameters, the operator can determine and adjust the ground resolution (cm/pixel), percentage of adjacent image overlap and camera pitch angle during the flight planning. From the web page http://aquibjaved.com/project2/index.php/preflight/"
   ]
  },
  {
   "cell_type": "markdown",
   "id": "5a56885e",
   "metadata": {},
   "source": [
    "### Ground Control Points Collection System \n",
    "\n",
    "* GPS Accuracy: For relative accuracy, a drone with a camara which uses GNSS system is necessary, and depending on the project high global accuracy might be necessary. In this case a drone with RTK technology should be considered. \n",
    "\n",
    "#### Ways to capture GCPs  \n",
    "\n",
    "Captured in the field (With GNSS system - Satellite technology) (cm accuracy) \n",
    "\n",
    "RTK \n",
    "\n",
    "RTK Drones (Extra over a normal GNSS drone 6k-8k US$) DJI P4 RTK: 5,6k US$ Approx. \n",
    "\n",
    "GNSS Receivers/RTK (Approx. 4,5k + Accessories) Base and Rover (How to?) (Adding the GCPs to the project with pix4D) \n",
    "\n",
    "One GNSS Receiver/RTK (Apron. 2,3k + Accessories) Using CORS network (How to?) the furthest you can be is 15 Km \n",
    "\n",
    "Similar to the one before, smart GCP (Propeller) 8k US$ \n",
    "\n",
    "PPK (Post process kinematic) Still needs 2 GNSS Receivers, there are PPK drones (PPK can be added?) \n",
    "\n",
    "Static:  \n",
    "\n",
    "GNSS Receiver (Apron. 2,3k + Accessories) 2 hours left in the point (Highly stable GPS Occupation) or Rapid Static: 15 min: The data collected (hundreds of points) is submitted to a positioning service (Which one for Germany?), we get back corrections with an accuracy of mm. This is used to establish benchmarks. Around 4k US$ for a single receiver.  \n",
    "\n",
    "Existing Points (If an already existing trusted map is georeferenced points from this map can be used as GCPs) \n",
    "\n",
    "GCPs from web Map Services (The accuracy varies with the location around the world) (Accuracy of meters) (Same as Consumer Grade GPS) (Accuracy of 5 to 10 m). "
   ]
  }
 ],
 "metadata": {
  "kernelspec": {
   "display_name": "Python 3 (ipykernel)",
   "language": "python",
   "name": "python3"
  },
  "language_info": {
   "codemirror_mode": {
    "name": "ipython",
    "version": 3
   },
   "file_extension": ".py",
   "mimetype": "text/x-python",
   "name": "python",
   "nbconvert_exporter": "python",
   "pygments_lexer": "ipython3",
   "version": "3.11.3"
  }
 },
 "nbformat": 4,
 "nbformat_minor": 5
}
