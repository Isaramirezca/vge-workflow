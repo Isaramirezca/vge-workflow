{
 "cells": [
  {
   "cell_type": "markdown",
   "id": "f2a99fc4-a4e7-4903-a2e1-9ab907ba5c3e",
   "metadata": {},
   "source": [
    "[Back to the Outline](./Outline.ipynb)<br>\n",
    "\n",
    "## CloudCompare\n",
    "\n",
    "Cloud Compare is an open-source 3D point cloud processing software that allows users to import, export, and manipulate large 3D point clouds, meshes, and images. Cloud Compare can be used for a variety of applications, such as geospatial analysis, topography, archaeology, and cultural heritage. Cloud Compare can handle different types of 3D data, including LiDAR data, photogrammetry, and laser scanning data and has an intuitive user interface and advanced features allowing the use from non specialists.\n",
    "\n",
    "This tool allow us to manipulate the point cloud obtained from ODM by cleaning, cutting, classifying the points, among other uses.\n",
    "\n",
    "Download the latest stable version from the CloudCompare [website](https://www.danielgm.net/cc/release/) and install it like any other software. Once installed here are some useful tutorials and tips. \n",
    "\n",
    "### Point Cloud Classification\n",
    "\n",
    "<img src=\"./Images/Clasifying.png\" alt=\"Alternative text\" />\n",
    "\n",
    "<img src=\"./Images/Clasifying2.png\" alt=\"Alternative text\" />\n",
    "\n",
    "Advanced Clasification here https://www.youtube.com/watch?v=8ryh_QyUqH8&t=19s\n",
    "\n",
    "\n",
    "Other usefull tutorials can be found here \n",
    "\n",
    "\n",
    "\n",
    "\n",
    "\n",
    "\n",
    "[Back to the Outline](./Outline.ipynb)<br>"
   ]
  }
 ],
 "metadata": {
  "kernelspec": {
   "display_name": "Python 3 (ipykernel)",
   "language": "python",
   "name": "python3"
  },
  "language_info": {
   "codemirror_mode": {
    "name": "ipython",
    "version": 3
   },
   "file_extension": ".py",
   "mimetype": "text/x-python",
   "name": "python",
   "nbconvert_exporter": "python",
   "pygments_lexer": "ipython3",
   "version": "3.11.3"
  }
 },
 "nbformat": 4,
 "nbformat_minor": 5
}
